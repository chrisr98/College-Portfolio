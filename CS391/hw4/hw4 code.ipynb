{
 "cells": [
  {
   "cell_type": "code",
   "execution_count": 34,
   "metadata": {},
   "outputs": [
    {
     "name": "stdout",
     "output_type": "stream",
     "text": [
      "\n",
      "Exercise 1 part 1\n",
      "\n",
      "1e-06\n",
      "Original X:  [2.12553301]\n",
      "X value found:  [1.7039684]\n",
      "Number of iterations before convergence:  117\n"
     ]
    },
    {
     "data": {
      "image/png": "[encoded data removed]",
      "text/plain": [
       "<Figure size 432x288 with 1 Axes>"
      ]
     },
     "metadata": {
      "needs_background": "light"
     },
     "output_type": "display_data"
    },
    {
     "name": "stdout",
     "output_type": "stream",
     "text": [
      "\n",
      "Exercise 1 part 2\n",
      "\n",
      "1e-06\n",
      "Original X:  [0.83404401 2.44064899 2.00022875]\n",
      "X value found:  [0.9999995  2.00000132 2.99999701]\n",
      "Number of iterations before convergence:  57\n"
     ]
    },
    {
     "data": {
      "image/png": "[encoded data removed]",
      "text/plain": [
       "<Figure size 432x288 with 1 Axes>"
      ]
     },
     "metadata": {
      "needs_background": "light"
     },
     "output_type": "display_data"
    }
   ],
   "source": [
    "# SYSTEM IMPORTS\n",
    "from typing import Callable, List, Tuple, Type, Sequence\n",
    "import matplotlib.pyplot as plt\n",
    "import numpy as np\n",
    "import os\n",
    "import sys\n",
    "import math\n",
    "\n",
    "\n",
    "    \n",
    "\n",
    "def part1()->np.random.seed(1):\n",
    "    # Picking a random number\n",
    "    x_t:np_ndarray = np.array([np.random.uniform(low=1.5,high =3) for i in range(1)], dtype = float)\n",
    "    \n",
    "    max_iter = 1000\n",
    "    converged = False\n",
    "    t = 0;\n",
    "    delta = 1e-6\n",
    "    print(delta)\n",
    "    f_of_x: List(float) = [f(x_t)]\n",
    "    print(\"Original X: \",x_t)\n",
    "    \n",
    "    while not converged and t < max_iter:\n",
    "        eta: float = 0.001\n",
    "        x_t_plus_1: np.ndarray = x_t - eta*df_dx(x_t)\n",
    "        if(np.linalg.norm(x_t_plus_1 - x_t, ord=2) <= delta):\n",
    "            converged  = True\n",
    "        t+=1\n",
    "        x_t = x_t_plus_1\n",
    "        f_of_x.append(f(x_t))\n",
    "    print(\"X value found: \",x_t)\n",
    "    print(\"Number of iterations before convergence: \",t)\n",
    "    plt.plot(np.arange(len(f_of_x)),f_of_x)\n",
    "    plt.show()\n",
    "\n",
    "print()\n",
    "print(\"Exercise 1 part 1\")\n",
    "print()\n",
    "# The equation from the HW\n",
    "def f(x: np.ndarray) -> np.ndarray:\n",
    "    return (x**4) + (3*(x**3)) + (10*((x-4)**2))\n",
    "\n",
    "\n",
    "# df(x)/dx\n",
    "def df_dx(x: np.ndarray) -> float:\n",
    "    return (4*(x**3)) + (9*(x**2)) + (20*(x-4))  # derivative of ax^b is bax^(b-1)\n",
    " \n",
    "    \n",
    "# make some data\n",
    "x: np.ndarray = np.arange(-100, 100+0.01, 0.01)\n",
    "y: np.ndarray = f(x)\n",
    "\n",
    "    \n",
    "part1()\n",
    "\n",
    "\n",
    "\n",
    "def part2()->np.random.seed(1):\n",
    "    # Picking a random number\n",
    "    x_t:np_ndarray = np.array([np.random.uniform(low=i,high =i+2) for i in range(3)], dtype = float)\n",
    "    \n",
    "    max_iter = 1000\n",
    "    converged = False\n",
    "    t = 0;\n",
    "    delta = 1e-6\n",
    "    print(delta)\n",
    "    f_of_x: List(float) = [f(x_t)]\n",
    "    print(\"Original X: \",x_t)\n",
    "    \n",
    "    while not converged and t < max_iter:\n",
    "        eta: float = 0.1\n",
    "        x_t_plus_1: np.ndarray = x_t - eta*df_dx(x_t)\n",
    "        if(np.linalg.norm(x_t_plus_1 - x_t, ord=2) <= delta):\n",
    "            converged  = True\n",
    "        t+=1\n",
    "        x_t = x_t_plus_1\n",
    "        f_of_x.append(f(x_t))\n",
    "    print(\"X value found: \",x_t)\n",
    "    print(\"Number of iterations before convergence: \",t)\n",
    "    plt.plot(np.arange(len(f_of_x)),f_of_x)\n",
    "    plt.show()\n",
    "\n",
    "\n",
    "print()\n",
    "print(\"Exercise 1 part 2\")\n",
    "print()\n",
    "# The equation from the HW\n",
    "def f(x: np.ndarray) -> np.ndarray:\n",
    "    return np.sum((x-(np.arange(x.shape[-1])+1))**2)\n",
    "\n",
    "\n",
    "# df(x)/dx\n",
    "def df_dx(x: np.ndarray) -> float:\n",
    "    return 2*(x-(np.arange(x.shape[-1])+1)) # derivative of ax^2 is 2ax\n",
    " \n",
    "    \n",
    "# make some data\n",
    "x: np.ndarray = np.arange(-100, 100+0.01, 0.01)\n",
    "y: np.ndarray = f(x)\n",
    "    \n",
    "part2()\n"
   ]
  },
  {
   "cell_type": "code",
   "execution_count": null,
   "metadata": {},
   "outputs": [],
   "source": []
  }
 ],
 "metadata": {
  "kernelspec": {
   "display_name": "Python 3",
   "language": "python",
   "name": "python3"
  },
  "language_info": {
   "codemirror_mode": {
    "name": "ipython",
    "version": 3
   },
   "file_extension": ".py",
   "mimetype": "text/x-python",
   "name": "python",
   "nbconvert_exporter": "python",
   "pygments_lexer": "ipython3",
   "version": "3.6.10"
  }
 },
 "nbformat": 4,
 "nbformat_minor": 4
}
