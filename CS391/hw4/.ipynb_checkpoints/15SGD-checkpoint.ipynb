{
 "cells": [
  {
   "cell_type": "markdown",
   "metadata": {
    "internals": {
     "slide_type": "subslide"
    },
    "slideshow": {
     "slide_type": "slide"
    }
   },
   "source": [
    "# Analysis of Gradient Descent and It's Variants"
   ]
  },
  {
   "cell_type": "code",
   "execution_count": 3,
   "metadata": {
    "internals": {},
    "slideshow": {
     "slide_type": "skip"
    }
   },
   "outputs": [
    {
     "name": "stdout",
     "output_type": "stream",
     "text": [
      "\n"
     ]
    }
   ],
   "source": [
    "%matplotlib inline\n",
    "%config InlineBackend.figure_format='retina'\n",
    "# import libraries\n",
    "import numpy as np\n",
    "import matplotlib as mp\n",
    "import pandas as pd\n",
    "import matplotlib.pyplot as plt\n",
    "import laUtilities as ut\n",
    "import slideUtilities as sl\n",
    "import pandas as pd\n",
    "from importlib import reload\n",
    "from datetime import datetime\n",
    "from IPython.display import Image\n",
    "from IPython.display import display_html\n",
    "from IPython.display import display\n",
    "from IPython.display import Math\n",
    "from IPython.display import Latex\n",
    "from IPython.display import HTML\n",
    "from typing import List, Tuple, Set, Dict, Type\n",
    "from mpl_toolkits.mplot3d import Axes3D\n",
    "from matplotlib import cm\n",
    "from matplotlib.animation import FuncAnimation\n",
    "from matplotlib import rc\n",
    "from sklearn import datasets as dsets\n",
    "\n",
    "print('')"
   ]
  },
  {
   "cell_type": "code",
   "execution_count": 4,
   "metadata": {
    "internals": {},
    "slideshow": {
     "slide_type": "skip"
    }
   },
   "outputs": [
    {
     "data": {
      "text/html": [
       "<style>\n",
       " .container.slides .celltoolbar, .container.slides .hide-in-slideshow {\n",
       "    display: None ! important;\n",
       "}\n",
       "</style>\n"
      ],
      "text/plain": [
       "<IPython.core.display.HTML object>"
      ]
     },
     "metadata": {},
     "output_type": "display_data"
    }
   ],
   "source": [
    "%%html\n",
    "<style>\n",
    " .container.slides .celltoolbar, .container.slides .hide-in-slideshow {\n",
    "    display: None ! important;\n",
    "}\n",
    "</style>"
   ]
  },
  {
   "cell_type": "markdown",
   "metadata": {
    "internals": {},
    "slideshow": {
     "slide_type": "skip"
    }
   },
   "source": [
    "%Set up useful MathJax (Latex) macros.\n",
    "%See http://docs.mathjax.org/en/latest/tex.html#defining-tex-macros\n",
    "%These are for use in the slideshow\n",
    "$\\newcommand{\\mat}[1]{\\left[\\begin{array}#1\\end{array}\\right]}$\n",
    "$\\newcommand{\\vx}{{\\mathbf x}}$\n",
    "$\\newcommand{\\hx}{\\hat{\\mathbf x}}$\n",
    "$\\newcommand{\\vbt}{{\\mathbf\\beta}}$\n",
    "$\\newcommand{\\vy}{{\\mathbf y}}$\n",
    "$\\newcommand{\\vz}{{\\mathbf z}}$\n",
    "$\\newcommand{\\R}{{\\mathbb{R}}}$\n",
    "$\\newcommand{\\vu}{{\\mathbf u}}$\n",
    "$\\newcommand{\\vv}{{\\mathbf v}}$\n",
    "$\\newcommand{\\vw}{{\\mathbf w}}$\n",
    "$\\newcommand{\\col}{{\\operatorname{Col}}}$\n",
    "$\\newcommand{\\nul}{{\\operatorname{Nul}}}$\n",
    "$\\newcommand{\\vb}{{\\mathbf b}}$\n",
    "$\\newcommand{\\va}{{\\mathbf a}}$\n",
    "$\\newcommand{\\ve}{{\\mathbf e}}$\n",
    "$\\newcommand{\\setb}{{\\mathcal{B}}}$\n",
    "$\\newcommand{\\rank}{{\\operatorname{rank}}}$\n",
    "$\\newcommand{\\vp}{{\\mathbf p}}$"
   ]
  },
  {
   "cell_type": "raw",
   "metadata": {
    "internals": {
     "slide_helper": "subslide_end"
    },
    "slide_helper": "slide_end",
    "slideshow": {
     "slide_type": "skip"
    }
   },
   "source": [
    "\\newcommand{\\mat}[1]{\\left[\\begin{array}#1\\end{array}\\right]}\n",
    "\\newcommand{\\vx}{{\\mathbf x}}\n",
    "\\newcommand{\\hx}{\\hat{\\mathbf x}}\n",
    "\\newcommand{\\vbt}{{\\mathbf\\beta}}\n",
    "\\newcommand{\\vy}{{\\mathbf y}}\n",
    "\\newcommand{\\vz}{{\\mathbf z}}\n",
    "\\newcommand{\\vb}{{\\mathbf b}}\n",
    "\\newcommand{\\vu}{{\\mathbf u}}\n",
    "\\newcommand{\\vv}{{\\mathbf v}}\n",
    "\\newcommand{\\vw}{{\\mathbf w}}\n",
    "\\newcommand{\\va}{{\\mathbf a}}\n",
    "\\newcommand{\\ve}{{\\mathbf e}}\n",
    "\\newcommand{\\vp}{{\\mathbf p}}\n",
    "\\newcommand{\\R}{{\\mathbb{R}}}\n",
    "\\newcommand{\\col}{{\\operatorname{Col}}}\n",
    "\\newcommand{\\nul}{{\\operatorname{Nul}}}\n",
    "\\newcommand{\\rank}{{\\operatorname{rank}}}\n",
    "\\newcommand{\\setb}{{\\mathcal{B}}}\n",
    "\\DeclareMathOperator*{\\argmax}{arg\\,max}\n",
    "\\DeclareMathOperator*{\\argmin}{arg\\,min}\n",
    "\\let\\biconditional\\leftrightarrow\n"
   ]
  },
  {
   "cell_type": "markdown",
   "metadata": {
    "slideshow": {
     "slide_type": "slide"
    }
   },
   "source": [
    "Remember the formulation for gradient descent:\n",
    "\n",
    "$$\\beta_{t+1} = \\beta_t - \\eta\\nabla e(\\textbf{X}, \\textbf{y}, \\beta_t)$$\n",
    "\n",
    "where $e: \\mathbb{R}^n \\rightarrow \\mathbb{R}$ is an error function, $\\textbf{D} = (\\textbf{X}, \\textbf{y})$ is the __entire__ dataset, $\\eta$ is a fixed step size (also called the __learning rate__) that was decided __before__ training), and $\\beta_j$ are the learnable parameters of the model at iteration $j$."
   ]
  },
  {
   "cell_type": "markdown",
   "metadata": {
    "slideshow": {
     "slide_type": "subslide"
    }
   },
   "source": [
    "One question that comes to mind is \"what happens if our dataset $\\textbf{D}$ is too big to load into memory?\""
   ]
  },
  {
   "cell_type": "markdown",
   "metadata": {
    "slideshow": {
     "slide_type": "slide"
    }
   },
   "source": [
    "## Stochastic Gradient Descent"
   ]
  },
  {
   "cell_type": "markdown",
   "metadata": {
    "slideshow": {
     "slide_type": "slide"
    }
   },
   "source": [
    "Idea: Break up $\\textbf{D}$ into __batches__, each containing $k$ examples, and update our parameters for each batch (using normal gradient descent)"
   ]
  },
  {
   "cell_type": "code",
   "execution_count": 5,
   "metadata": {
    "slideshow": {
     "slide_type": "subslide"
    }
   },
   "outputs": [
    {
     "ename": "SyntaxError",
     "evalue": "invalid syntax (<ipython-input-5-9d6a9905fb8f>, line 3)",
     "output_type": "error",
     "traceback": [
      "\u001b[0;36m  File \u001b[0;32m\"<ipython-input-5-9d6a9905fb8f>\"\u001b[0;36m, line \u001b[0;32m3\u001b[0m\n\u001b[0;31m    randomly construct (X1, Y1), (X2, Y2), ..., (Xm, Ym) from X,Y\u001b[0m\n\u001b[0m                     ^\u001b[0m\n\u001b[0;31mSyntaxError\u001b[0m\u001b[0;31m:\u001b[0m invalid syntax\n"
     ]
    }
   ],
   "source": [
    "def SGD(X: np.ndarray, Y: np.ndarray, lr: float, k: int, e):\n",
    "    while not converged and not train_too_long:\n",
    "        randomly construct (X1, Y1), (X2, Y2), ..., (Xm, Ym) from X,Y\n",
    "        for Xi, Yi in (X1, Y1), (X2, Y2), ..., (Xm, Ym):\n",
    "            beta = beta - lr*grad(e)\n",
    "        shuffle(X, Y)\n",
    "        converged = ...\n",
    "        train_too_long = ..."
   ]
  },
  {
   "cell_type": "markdown",
   "metadata": {
    "slideshow": {
     "slide_type": "slide"
    }
   },
   "source": [
    "The most extreme version of this is when the $k=1$. In this example (also called __vanilla__ stochastic gradient descent), the model is updated for __each training example__ separately. There is also a (more popular) version of this called __minibatch__ stochastic gradient descent, were $1 < k < |\\textbf{D}|$. Let's look at the convergence of vanilla gradient descent, and also with stochastic gradient descent."
   ]
  },
  {
   "cell_type": "markdown",
   "metadata": {
    "slideshow": {
     "slide_type": "slide"
    }
   },
   "source": [
    "$\\textit{Claim}$: Let us say error function $e: \\mathbb{R}^{n} \\rightarrow \\mathbb{R}$ is convex and differentiable, and that $\\nabla e$ is __Lipschitz__ continuous with minimum Lipschitz constant $c > 0$. If $\\eta \\le 1-\\frac{2}{c}$, then gradient descent is guaranteed to converge."
   ]
  },
  {
   "cell_type": "markdown",
   "metadata": {
    "slideshow": {
     "slide_type": "subslide"
    }
   },
   "source": [
    "Side note: function $f$ is __Lipschitz__ continuous with constant $k > 0$ if $\\forall \\textbf{x},\\textbf{y} \\hspace{0.5cm}||f(\\textbf{x}) - f(\\textbf{y})||_2 \\le k||\\textbf{x}-\\textbf{y}||_2$\n",
    "Think of it this way: for every pair of points, $f$ is bounded on how fast it can change by $k$. Check out this gif (from https://en.wikipedia.org/wiki/Lipschitz_continuity)."
   ]
  },
  {
   "cell_type": "code",
   "execution_count": 6,
   "metadata": {
    "slideshow": {
     "slide_type": "fragment"
    }
   },
   "outputs": [
    {
     "data": {
      "text/html": [
       "<img src=\"./figs/lipschitz_cont.gif\">"
      ],
      "text/plain": [
       "<IPython.core.display.HTML object>"
      ]
     },
     "execution_count": 6,
     "metadata": {},
     "output_type": "execute_result"
    }
   ],
   "source": [
    "HTML('<img src=\"./figs/lipschitz_cont.gif\">')"
   ]
  },
  {
   "cell_type": "markdown",
   "metadata": {
    "slideshow": {
     "slide_type": "subslide"
    }
   },
   "source": [
    "$\\textit{Proof}$: Since we know $e$ is convex, we know (using a 2nd degree Taylor polynomial of $e$ centered around $e(\\textbf{x})$):\n",
    "$$e(\\textbf{y}) \\le e(\\textbf{x}) + \\nabla e(\\textbf{x})^T(\\textbf{y}-\\textbf{x})  + \\frac{1}{2}\\nabla^2 e(\\textbf{x})(\\textbf{y}-\\textbf{x})(\\textbf{y}-\\textbf{x})^T$$\n",
    "\n",
    "Since $\\nabla e$ is Lipschitz continuous with minimum constant $c$, we know the following bound on how much $\\nabla e$ can change (i.e. a bound on the slope of $\\nabla e$ which is $\\nabla^2 e$):\n",
    "$$\\nabla^2 e(\\textbf{x}) \\le c\\textbf{I}$$\n",
    "\n",
    "which changes our expression into:\n",
    "$$e(\\textbf{y}) \\le e(\\textbf{x}) + \\nabla e(\\textbf{x})^T(\\textbf{y}-\\textbf{x})  + \\frac{1}{2}c\\textbf{I}(\\textbf{y}-\\textbf{x})(\\textbf{y}-\\textbf{x})^T$$"
   ]
  },
  {
   "cell_type": "markdown",
   "metadata": {
    "slideshow": {
     "slide_type": "subslide"
    }
   },
   "source": [
    "At this point, let us say the point $\\textbf{y}$ is our new point $\\textbf{x}_{t+1}$ computed as one iteration of gradient descent (i.e. $\\textbf{x}_{t+1} = \\textbf{x}_t - \\eta\\nabla e(\\textbf{x}_t)$):\n",
    "$$\\begin{align}\n",
    "    e(\\textbf{x}_{t+1}) &\\le& e(\\textbf{x}_t) + \\nabla e(\\textbf{x}_t)^T(\\textbf{x}_t - \\eta\\nabla e(\\textbf{x}_t)-\\textbf{x}_t)  + \\frac{1}{2}c\\textbf{I}(\\textbf{x}_t - \\eta\\nabla e(\\textbf{x}_t)-\\textbf{x}_t)(\\textbf{x}_t - \\eta\\nabla e(\\textbf{x}_t)-\\textbf{x}_t)^T\\\\\n",
    "    &=& e(\\textbf{x}_t) - \\eta\\nabla e(\\textbf{x}_t)^T\\nabla e(\\textbf{x}_t) + \\frac{1}{2}c\\eta^2\\textbf{I}\\nabla e(\\textbf{x}_t) \\nabla e(\\textbf{x}_t)^T\\\\\n",
    "    &=& e(\\textbf{x}_t) - \\eta||\\nabla e(\\textbf{x}_t)||_2^2 + \\frac{1}{2}c\\eta^2||\\nabla e(\\textbf{x}_t)||_2^2\\\\\n",
    "    &=& e(\\textbf{x}_t) - (1 - \\frac{1}{2}c\\eta)\\eta||\\nabla e(\\textbf{x}_t)||_2^2\n",
    "\\end{align}$$\n",
    "\n",
    "Whew! Lots of work there, but we're almost done.\n",
    "\n",
    "Since we know $||\\nabla e(\\textbf{x}_t)||_2^2 \\ge 0$ and $\\eta > 0$, then $e(\\textbf{x}_{t+1}) \\le e(\\textbf{x}_t) \\leftrightarrow -(1 - \\frac{1}{2}c\\eta) \\le 0$:\n",
    "$$\\begin{align}\n",
    "    \\frac{1}{2}c\\eta - 1 &\\le& 0\\\\\n",
    "    \\eta \\le 1 - \\frac{2}{c}\\\\\n",
    "\\end{align}$$\n"
   ]
  },
  {
   "cell_type": "markdown",
   "metadata": {
    "slideshow": {
     "slide_type": "subslide"
    }
   },
   "source": [
    "This isn't very good, because this means our choice of $\\eta$ is tied to the model and error function. What if we use a model that is not lipschitz continuous? It would be much better if $\\eta$ was independent (from the model and error function)."
   ]
  },
  {
   "cell_type": "markdown",
   "metadata": {
    "slideshow": {
     "slide_type": "slide"
    }
   },
   "source": [
    "What about stochastic gradient descent?"
   ]
  },
  {
   "cell_type": "markdown",
   "metadata": {
    "slideshow": {
     "slide_type": "subslide"
    }
   },
   "source": [
    "$\\textit{Setup}$: gradient descent is all about computing the __overall__ gradient for the entire dataset. Remember, we compute this by summing over the columns of the jacobian matrix (assuming $m$ training examples in dataset $\\textbf{D}$):\n",
    "$$\\nabla e = \\frac{1}{m}\\textbf{1}^T\\textbf{J}$$\n",
    "\n",
    "This can be written as:\n",
    "$$\\nabla e(\\textbf{X}, \\textbf{Y}, \\beta) = \\frac{1}{m}\\sum\\limits_{i=1}^{m} \\nabla e(\\textbf{X}_i, \\textbf{Y}_i, \\beta)$$\n",
    "\n",
    "in stochastic gradient descent, we are computing:\n",
    "$$\\nabla e(\\textbf{X}_{j}, \\textbf{Y}_j, \\beta) = \\frac{1}{|\\textbf{X}_j|}\\sum\\limits_{i=1}^{|\\textbf{X}_j|} \\nabla e(\\textbf{X}_{j,i}, \\textbf{Y}_{j,i}, \\beta)$$\n",
    "where $\\textbf{X}_{j}, \\textbf{Y}_j$ is the $j^{th}$ batch of data ($d = \\lceil\\frac{m}{k}\\rceil$ total) and has size $|\\textbf{X}_j| \\le k$\n",
    "\n",
    "__Important__: Each time we update parameters, we randomly choose $j$"
   ]
  },
  {
   "cell_type": "markdown",
   "metadata": {
    "slideshow": {
     "slide_type": "subslide"
    }
   },
   "source": [
    "Because of this randomness, we are interested in $\\mathbb{E}\\Big[\\nabla e(\\textbf{X}_j, \\textbf{Y}_j, \\beta)\\Big]$\n",
    "\n",
    "Lets talk about __vanilla__ SGD for a second:\n",
    "$$\\begin{align}\n",
    "    \\mathbb{E}\\Big[\\nabla e(\\textbf{X}_j, \\textbf{Y}_j, \\beta)\\Big] &=& \\sum\\limits_{i=1}^{m} \\nabla e(\\textbf{X}_i, \\textbf{Y}_i)Pr(\\textbf{X}_i, \\textbf{Y}_i, \\beta)\\\\\n",
    "    &=& \\sum\\limits_{i=1}^{m} \\nabla e(\\textbf{X}_i, \\textbf{Y}_i, \\beta)\\frac{1}{m}\\\\\n",
    "    &=& \\frac{1}{m}\\sum\\limits_{i=1}^{m} \\nabla e(\\textbf{X}_i, \\textbf{Y}_i, \\beta)\\\\\n",
    "    &=& \\nabla e(\\textbf{X}, \\textbf{Y}, \\beta)\n",
    "\\end{align}$$\n",
    "\n",
    "Woooo!! If we use __vanilla__ SGD, we are still computing an __unbiased__ estimate of the gradient at each step!"
   ]
  },
  {
   "cell_type": "markdown",
   "metadata": {
    "slideshow": {
     "slide_type": "subslide"
    }
   },
   "source": [
    "What about __minibatch__ SGD?\n",
    "\n",
    "$$\\begin{align}\n",
    "    \\mathbb{E}\\Big[\\frac{1}{\\textbf{X}_j}\\nabla e(\\textbf{X}_j, \\textbf{Y}_j, \\beta)\\Big] &=& \\sum\\limits_{j=1}^{d}Pr(\\textbf{X}_{j}, \\textbf{Y}_{j})\\frac{1}{|\\textbf{X}_j|}\\sum\\limits_{i=1}^{|\\textbf{X}_j|} \\nabla e(\\textbf{X}_{j,i}, \\textbf{Y}_{j,i}, \\beta)\\\\\n",
    "    &=& \\sum\\limits_{j=1}^{d}\\frac{1}{d}\\frac{1}{|\\textbf{X}_j|}\\sum\\limits_{i=1}^{|\\textbf{X}_j|} \\nabla e(\\textbf{X}_{j,i}, \\textbf{Y}_{j,i}, \\beta)\\\\\n",
    "    &=& \\sum\\limits_{j=1}^{d}\\frac{k}{m}\\frac{1}{k}\\sum\\limits_{i=1}^{k} \\nabla e(\\textbf{X}_{j,i}, \\textbf{Y}_{j,i}, \\beta)\\\\\n",
    "    &=& \\sum\\limits_{j=1}^{d}\\sum\\limits_{i=1}^{k} \\nabla e(\\textbf{X}_{j,i}, \\textbf{Y}_{j,i}, \\beta)\\\\\n",
    "    &=& \\sum\\limits_{z=1}^{m} \\nabla e(\\textbf{X}_{z}, \\textbf{Y}_{z}, \\beta)\\\\\n",
    "    &=& \\nabla e(\\textbf{X}, \\textbf{Y}, \\beta)\n",
    "\\end{align}$$"
   ]
  },
  {
   "cell_type": "code",
   "execution_count": 7,
   "metadata": {
    "slideshow": {
     "slide_type": "subslide"
    }
   },
   "outputs": [],
   "source": [
    "# code to make minibatches\n",
    "def make_minibatches(X: np.ndarray, Y: np.ndarray, minibatch_size: int) -> Tuple[np.ndarray, np.ndarray]:\n",
    "    # sanity check\n",
    "    assert(X.shape[0] == Y.shape[0]) # should have same number of example\n",
    "    assert(minibatch_size > 0)\n",
    "    assert(minibatch_size <= X.shape[0])\n",
    "    if minibatch_size == X.shape[0]:\n",
    "        yield X, Y\n",
    "\n",
    "    else:\n",
    "        # randomly shuffle the data\n",
    "        minibatch_ids: np.ndarray = np.random.randint(low=0, high=minibatch_size,\n",
    "                                                      size=np.ceil(X.shape[0] / minibatch_size))\n",
    "        for i in minibatch_ids:\n",
    "            yield X[minibatch_ids==i,:], Y[minibatch_ids==i,:]\n",
    "\n",
    "for X_b, y_b in make_minibatches(...):\n",
    "    ..."
   ]
  },
  {
   "cell_type": "markdown",
   "metadata": {
    "slideshow": {
     "slide_type": "slide"
    }
   },
   "source": [
    "But what about that $\\eta$?\n",
    "\n",
    "There are plenty of variants on SGD, we will only talk about three of them: __momentum__, __rmsprop__, and __adam__. All three of these methods use the gradient descent paradigm (compute gradients, update guess iteratively), however they focus on effectively changing the update."
   ]
  },
  {
   "cell_type": "markdown",
   "metadata": {
    "slideshow": {
     "slide_type": "slide"
    }
   },
   "source": [
    "## Momentum optimization\n",
    "\n",
    "Momentum does not actually change $\\eta$, instead it adds an extra term onto the update step:\n",
    "$$\\beta_{t+1} = \\beta_t + \\triangle\\beta_t$$\n",
    "\n",
    "Where $\\triangle\\beta_t = \\alpha\\triangle\\beta_{t-1} - \\eta\\nabla e$ is the change in $\\beta$ from the last update step. Given a parameter $\\alpha \\ge 0$, momentum encourages the current update step to consider the previous update step as well. This method prevents $\\beta$ from changing sharply, because $\\alpha\\triangle\\beta_t$ smooths out any sharp changes in direction."
   ]
  },
  {
   "cell_type": "markdown",
   "metadata": {
    "slideshow": {
     "slide_type": "slide"
    }
   },
   "source": [
    "## RMSProp (Root Mean Squared Propogation) optimization\n",
    "\n",
    "This method makes two conceptual differences from what we have talked about so far. Instead of using one $\\eta$ shared across all parameters (i.e. each parameter is updated by the same constant step size), why not give each parameter a separate step size that can change?\n",
    "\n",
    "RMSProp divides the learning rate for each parameter by the running average of the magnitudes of the gradients for that parameter. In other words, keep a running total of how much a parameter has changed (i.e. the magnitude of its gradient at each iteration), and scale the learning rate for that parameter by the running total:\n",
    "\n",
    "$$\\begin{align}\n",
    "    \\textbf{v}_{t+1} = \\alpha\\textbf{v}_{t} + (1-\\alpha)\\textbf{I}\\nabla e\\nabla e^T\\\\\n",
    "    \\beta_{t+1} = \\beta_t - \\frac{\\eta}{\\sqrt{\\textbf{v}_{t+1}}}\\nabla e\\\\\n",
    "\\end{align}$$"
   ]
  },
  {
   "cell_type": "markdown",
   "metadata": {
    "slideshow": {
     "slide_type": "slide"
    }
   },
   "source": [
    "## Adam (Adaptive Moment Estimation) optimization\n",
    "\n",
    "Adam is built on top of RMSProp, and uses both the first and second moments (avg and variance respectively) to compute the scaling for each parameter's learning rate:\n",
    "\n",
    "$$\\begin{align}\n",
    "    \\textbf{m}_{t+1} = \\alpha_1\\textbf{m}_{t} + (1-\\alpha_1)\\nabla e\\\\\n",
    "    \\textbf{v}_{t+1} = \\alpha_2\\textbf{v}_{t} + (1-\\alpha_2)\\textbf{I}\\nabla e\\nabla e^T\\\\\n",
    "    \\hat{\\textbf{m}}_{t+1} = \\frac{\\textbf{m}_{t+1}}{1 - \\alpha_1^{t+1}}\\\\\n",
    "    \\hat{\\textbf{v}}_{t+1} = \\frac{\\textbf{v}_{t+1}}{1-\\alpha_2^{t+1}}\\\\\n",
    "    \\beta_{t+1} = \\beta_t - \\eta\\frac{\\hat{\\textbf{m}}_{t+1}}{\\sqrt{\\hat{\\textbf{v}}_{t+1}} + \\epsilon}\n",
    "\\end{align}$$"
   ]
  },
  {
   "cell_type": "markdown",
   "metadata": {
    "slideshow": {
     "slide_type": "subslide"
    }
   },
   "source": [
    "Just like when proving convergence for SGD, we care about $\\mathbb{E}\\Big[\\textbf{m}_t\\Big]$ and $\\mathbb{E}\\Big[\\textbf{v}_t\\Big]$. Lets focus on just one, since the way they are computed is identical:\n",
    "\n",
    "$$\\begin{align}\n",
    "  \\mathbb{E}\\Big[\\textbf{m}_t\\Big] &=& \\mathbb{E}\\Big[(1-\\alpha_1)\\sum\\limits_{i=0}^t \\alpha_1^{t-i}\\nabla e_i\\Big]\\\\\n",
    "  &=& (1-\\alpha_1)\\mathbb{E}\\Big[\\nabla e_t\\Big]\\Big(\\sum\\limits_{i=1}^t \\alpha_1^{t-i}\\Big) + C\\\\\n",
    "  &=& (1-\\alpha_1^t)\\mathbb{E}\\Big[\\nabla e_t\\Big] + C\n",
    "\\end{align}$$\n",
    "\n",
    "This is a biased estimator, so we correct it by computing $\\hat{\\textbf{m}}_t = \\frac{\\textbf{m}_t}{1-\\alpha_1^t}$"
   ]
  },
  {
   "cell_type": "markdown",
   "metadata": {
    "slideshow": {
     "slide_type": "slide"
    }
   },
   "source": [
    "## Computing Gradients"
   ]
  },
  {
   "cell_type": "markdown",
   "metadata": {
    "slideshow": {
     "slide_type": "slide"
    }
   },
   "source": [
    "I know we talked last lecture about __how__ to actually compute these gradients (using the chain rule), but I really want to cement this process. Lets think of the computing the error for a model using an arbitrary model and error function:"
   ]
  },
  {
   "cell_type": "code",
   "execution_count": 8,
   "metadata": {
    "slideshow": {
     "slide_type": "fragment"
    }
   },
   "outputs": [
    {
     "data": {
      "text/html": [
       "<div id=\"157433b9a0631c37\"></div>\n",
       "    <script type=\"text/javascript\">\n",
       "        $(function(){\n",
       "            var p = $(\"#157433b9a0631c37\");\n",
       "            if (p.length==0) return;\n",
       "\n",
       "            while (!p.hasClass(\"cell\")) {\n",
       "                p=p.parent();\n",
       "\n",
       "                if (p.prop(\"tagName\") ==\"body\") return;\n",
       "            }\n",
       "            var cell = p;\n",
       "            cell.find(\".input\").addClass(\"hide-in-slideshow\")\n",
       "        });\n",
       "    </script>"
      ]
     },
     "metadata": {},
     "output_type": "display_data"
    },
    {
     "data": {
      "image/png": "[encoded data removed]",
      "text/plain": [
       "<IPython.core.display.Image object>"
      ]
     },
     "metadata": {
      "image/png": {
       "width": 850
      }
     },
     "output_type": "display_data"
    }
   ],
   "source": [
    "sl.hide_code_in_slideshow()\n",
    "display(Image(\"figs/model_error_computation.png\", width=850))"
   ]
  },
  {
   "cell_type": "markdown",
   "metadata": {
    "slideshow": {
     "slide_type": "subslide"
    }
   },
   "source": [
    "The algorithm that efficiently computes this is called the __backpropagation__ algorithm. Before we can show/use/implement the algorithm, we need to introduce a new model type other than linear regression. For now, lets just talk about feed forwared neural networks."
   ]
  },
  {
   "cell_type": "markdown",
   "metadata": {
    "slideshow": {
     "slide_type": "slide"
    }
   },
   "source": [
    "## Feed Forward Neural Networks"
   ]
  },
  {
   "cell_type": "markdown",
   "metadata": {
    "slideshow": {
     "slide_type": "subslide"
    }
   },
   "source": [
    "The Linear Regression we've talked about computes $\\textbf{y} = [\\textbf{X}, \\textbf{1}]\\beta$, and predicts a single number per example. Neural networks work in a similar fashion, but with a few differences:\n",
    "\n",
    "  - Neural networks compute $\\textbf{Y} = f([\\textbf{X}, \\textbf{1}]\\textbf{W})$ where $f: \\mathbb{R}^{k}\\rightarrow \\mathbb{R}^{k}$ is some activation function (typically nonlinear).\n",
    "  - $\\textbf{W}\\in \\mathbb{R}^{(n+1)\\times k}$, is a __matrix__ instead of a vector (i.e. you have the ability to predict more than a single number per example).\n",
    "  - This means the output $\\textbf{Y}\\in \\mathbb{R}^{m\\times k}$ does not have to be a vector.\n",
    "  \n",
    "Feed forward are just the above computation (although there are many, many types of neural networks), and are typically stacked into layers like the diagram earlier."
   ]
  },
  {
   "cell_type": "markdown",
   "metadata": {
    "slideshow": {
     "slide_type": "subslide"
    }
   },
   "source": [
    "For now, we're going to restrict ourselves to only talking about __element-wise independent__ activation functions. This means that $f(\\textbf{x}) = [f(x_1), f(x_2), \\dots, f(x_n)]$\n",
    "\n",
    "There are __non element-wise independent__ activation functions (ex. softmax) and computing their jacobian is significantly harder. I will include just softmax in our implementation, but we will only discuss __element-wise independent__ functions.\n",
    "\n",
    "element-wise indepdence is nice for computing jacobians. If $f(\\textbf{x}) = [f(x_1), f(x_2), \\dots, f(x_n)]$, then $\\frac{\\partial f(\\textbf{x})}{\\partial x_j} = f'(x_j)$, so $\\nabla f = [f'(x_1), f'(x_2), \\dots, f'(x_n)]$"
   ]
  },
  {
   "cell_type": "code",
   "execution_count": 9,
   "metadata": {
    "slideshow": {
     "slide_type": "subslide"
    }
   },
   "outputs": [],
   "source": [
    "# base class of all computation modules\n",
    "from abc import ABC, abstractmethod\n",
    "class Module(ABC):\n",
    "    @abstractmethod\n",
    "    def forward(self, X: np.ndarray) -> np.ndarray:\n",
    "        ...\n",
    "\n",
    "    @abstractmethod\n",
    "    def backward(self, X: np.ndarray, dE_dModule: np.ndarray) -> np.ndarray:\n",
    "        ..."
   ]
  },
  {
   "cell_type": "code",
   "execution_count": 10,
   "metadata": {
    "slideshow": {
     "slide_type": "subslide"
    }
   },
   "outputs": [],
   "source": [
    "# some activation functions\n",
    "class Sigmoid(Module):\n",
    "    def forward(self, X: np.ndarray) -> np.ndarray:\n",
    "        return 1 / (1 + np.exp(-X))\n",
    "\n",
    "    def backward(self, X: np.ndarray, dE_dModule: np.ndarray) -> np.ndarray:\n",
    "        Y_hat: np.ndarray = self.forward(X)\n",
    "        dModule_dX: np.ndarray = Y_hat*(1 - Y_hat)\n",
    "        return np.multiply(dE_dModule, dModule_dX)\n",
    "\n",
    "    \n",
    "class Tanh(Module):\n",
    "    def forward(self, X: np.ndarray) -> np.ndarray:\n",
    "        return np.tanh(X)\n",
    "\n",
    "    def backward(self, X: np.ndarray, dE_dModule: np.ndarray) -> np.ndarray:\n",
    "        dModule_dX: np.ndarray = 1 - self.forward(X)**2\n",
    "        return np.multiply(dE_dModule, dModule_dX)\n",
    "\n",
    "class Linear(Module):\n",
    "    def forward(self, X: np.ndarray) -> np.ndarray:\n",
    "        return X\n",
    "\n",
    "    def backward(self, X: np.ndarray, dE_dModule: np.ndarray) -> np.ndarray:\n",
    "        return dE_dModule"
   ]
  },
  {
   "cell_type": "code",
   "execution_count": 11,
   "metadata": {
    "slideshow": {
     "slide_type": "subslide"
    }
   },
   "outputs": [],
   "source": [
    "# some error functions\n",
    "class ErrorFunc(ABC):\n",
    "    @staticmethod\n",
    "    @abstractmethod\n",
    "    def forward(Y_hat: np.ndarray, Y_gt: np.ndarray) -> float:\n",
    "        ...\n",
    "    \n",
    "    @staticmethod\n",
    "    @abstractmethod\n",
    "    def backward(Y_hat: np.ndarray, Y_gt: np.ndarray) -> np.ndarray:\n",
    "        ...\n",
    "\n",
    "        \n",
    "class MSE(ErrorFunc):\n",
    "    @staticmethod\n",
    "    def forward(Y_hat: np.ndarray, Y_gt: np.ndarray) -> float:\n",
    "        assert(Y_hat.shape == Y_gt.shape)\n",
    "        return np.sum((Y_hat - Y_gt)**2)/(2*Y_hat.shape[0])\n",
    "\n",
    "    @staticmethod\n",
    "    def backward(Y_hat: np.ndarray, Y_gt: np.ndarray) -> np.ndarray:\n",
    "        assert(Y_hat.shape == Y_gt.shape)\n",
    "        return (Y_hat - Y_gt)/Y_hat.shape[0]"
   ]
  },
  {
   "cell_type": "code",
   "execution_count": 19,
   "metadata": {
    "slideshow": {
     "slide_type": "subslide"
    }
   },
   "outputs": [],
   "source": [
    "# our parameter class\n",
    "class Parameter(object):\n",
    "    def __init__(self, V: np.ndarray) -> np.ndarray:\n",
    "        self.val: np.ndarray = V\n",
    "        self.grad: np.ndarray = None\n",
    "\n",
    "    def reset(self) -> \"Parameter\":\n",
    "        self.grad = np.zeros_like(self.val)\n",
    "        return self\n",
    "\n",
    "    def step(self, G: np.ndarray) -> \"Parameter\":\n",
    "        self.val -= G\n",
    "        return self.reset()"
   ]
  },
  {
   "cell_type": "code",
   "execution_count": 20,
   "metadata": {
    "slideshow": {
     "slide_type": "subslide"
    }
   },
   "outputs": [],
   "source": [
    "# our feed forward neural network class\n",
    "class Dense(Module):\n",
    "    def __init__(self, in_dim: int, out_dim: int, af: Module = None) -> None:\n",
    "        self.W: Parameter = Parameter(np.random.randn(in_dim, out_dim))\n",
    "        self.b: Parameter = Parameter(np.random.randn(1, out_dim))\n",
    "        self.af: Module = af\n",
    "        if self.af is None:\n",
    "            self.af = Sigmoid\n",
    "\n",
    "    def params(self) -> List[Parameter]:\n",
    "        return [self.W, self.b]\n",
    "\n",
    "    def forward(self, X: np.ndarray) -> np.ndarray:\n",
    "        return self.af.forward(np.dot(X, self.W.val) + self.b.val)\n",
    "\n",
    "    def backward(self, X: np.ndarray, dE_dModule: np.ndarray) -> np.ndarray:\n",
    "        Z: np.ndarray = np.dot(X, self.W.val) + self.b.val\n",
    "        A: np.ndarray = self.af.forward(Z)\n",
    "\n",
    "        dE_dZ: np.ndarray = self.af.backward(Z, dE_dModule)\n",
    "        self.W.grad += np.dot(X.T, dE_dZ)\n",
    "        self.b.grad += np.sum(dE_dZ, axis=0, keepdims=True)\n",
    "\n",
    "        dZ_dX: np.ndarray = self.W.val.T\n",
    "        return np.dot(dE_dZ, dZ_dX)"
   ]
  },
  {
   "cell_type": "code",
   "execution_count": 14,
   "metadata": {
    "slideshow": {
     "slide_type": "subslide"
    }
   },
   "outputs": [],
   "source": [
    "# our sequential modl\n",
    "class Sequential(Module):\n",
    "    def __init__(self, layers: List[Module] = None) -> None:\n",
    "        self.layers: List[Module] = layers\n",
    "        if self.layers is None:\n",
    "            self.layers = list()\n",
    "        \n",
    "    def add(self, m: Module) -> \"Sequential\":\n",
    "        self.layers.append(m)\n",
    "        return self\n",
    "\n",
    "    def params(self) -> List[Parameter]:\n",
    "        params: List[Parameter] = list()\n",
    "        for l in self.layers:\n",
    "            params += l.params()\n",
    "        return params\n",
    "\n",
    "    def forward(self, X: np.ndarray) -> np.ndarray:\n",
    "        for l in self.layers:\n",
    "            X = l.forward(X)\n",
    "        return X\n",
    "\n",
    "    def backward(self, X: np.ndarray, dE_dModule: np.ndarray) -> np.ndarray:\n",
    "        # predict first\n",
    "        Xs: List[np.ndarray] = [X]\n",
    "        for l in self.layers:\n",
    "            X = l.forward(X)\n",
    "            Xs.append(X)\n",
    "\n",
    "        for i,l in enumerate(self.layers[::-1]): # traverse backwards\n",
    "            dE_dModule = l.backward(Xs[-i-2], dE_dModule)\n",
    "        return dE_dModule"
   ]
  },
  {
   "cell_type": "code",
   "execution_count": 15,
   "metadata": {
    "slideshow": {
     "slide_type": "subslide"
    }
   },
   "outputs": [],
   "source": [
    "# our optimizers\n",
    "class Optimizer(ABC):\n",
    "    def __init__(self, params: List[Parameter]) -> None:\n",
    "        self.params: List[Parameter] = params\n",
    "\n",
    "    def reset(self) -> None:\n",
    "        for P in self.params:\n",
    "            P.reset()\n",
    "\n",
    "    @abstractmethod\n",
    "    def step(self) -> None:\n",
    "        ...\n",
    "\n",
    "class SGD(Optimizer):\n",
    "    def __init__(self, params: List[Parameter], lr: float) -> None:\n",
    "        super().__init__(params)\n",
    "        self.lr: float = lr\n",
    "\n",
    "    def step(self) -> None:\n",
    "        for P in self.params:\n",
    "            P.step(self.lr*P.grad)\n",
    "            \n",
    "class SGDMomemtum(Optimizer):\n",
    "    def __init__(self, params: List[Parameter], lr: float, momentum: float = 0.1) -> None:\n",
    "        super().__init__(params)\n",
    "        self.lr: float = lr\n",
    "        self.momentum: float = momentum\n",
    "        self.deltas: List[np.ndarray] = [np.zeros_like(P.val) for P in self.params]\n",
    "\n",
    "    def step(self) -> None:\n",
    "        for i, P in self.params:\n",
    "            new_delta: np.ndarray = self.momemtum*self.deltas[i] - self.lr*self.P.grad\n",
    "            P.step(new_delta)\n",
    "            self.deltas[i] = new_delta "
   ]
  },
  {
   "cell_type": "code",
   "execution_count": 21,
   "metadata": {
    "slideshow": {
     "slide_type": "subslide"
    }
   },
   "outputs": [],
   "source": [
    "# always implement gradient checking!\n",
    "# (f(x+e)-f(x-e))/(2*e)\n",
    "\n",
    "def check_grads(X: np.ndarray, Y_gt: np.ndarray, m: Module, ef: ErrorFunc,\n",
    "                epsilon: float = 1e-4, delta: float = 1e-6) -> Tuple[bool, np.ndarray, np.ndarray]:\n",
    "    params: List[Parameter] = m.params()\n",
    "    num_grads: List[np.ndarray] = [np.zeros_like(P.val) for P in params]\n",
    "    sym_grads: List[np.ndarray] = [P.grad for P in params]\n",
    "\n",
    "    for P, N in zip(params, num_grads):\n",
    "        for index, v in np.ndenumerate(P.val):\n",
    "            P.val[index] += epsilon\n",
    "            N[index] += ef.forward(m.forward(X), Y_gt)\n",
    "\n",
    "            P.val[index] -= 2*epsilon\n",
    "            N[index] -= ef.forward(m.forward(X), Y_gt)\n",
    "\n",
    "            # set param back to normal\n",
    "            P.val[index] = v\n",
    "            N[index] /= (2*epsilon)\n",
    "\n",
    "    norms: np.ndarray = np.array([np.linalg.norm(S-N)/np.linalg.norm(S+N) for S,N in zip(sym_grads, num_grads)])\n",
    "    failed_grad_mask: np.ndarray = norms > delta\n",
    "    return np.sum(failed_grad_mask, dtype=bool), failed_grad_mask, norms"
   ]
  },
  {
   "cell_type": "code",
   "execution_count": 23,
   "metadata": {
    "slideshow": {
     "slide_type": "subslide"
    }
   },
   "outputs": [
    {
     "name": "stdout",
     "output_type": "stream",
     "text": [
      "done\n"
     ]
    }
   ],
   "source": [
    "# test!\n",
    "X: np.ndarray = np.array([[0,0],\n",
    "                          [0,1],\n",
    "                          [1,0],\n",
    "                          [1,1]], dtype=float)\n",
    "Y_gt: np.ndarray = np.array([[1,0],\n",
    "                             [0,1],\n",
    "                             [0,1],\n",
    "                             [1,0]], dtype=float)\n",
    "m = Sequential()\n",
    "m.add(Dense(2, 5, af=Sigmoid()))\n",
    "m.add(Dense(5, 2, af=Sigmoid()))\n",
    "ef = MSE()\n",
    "opt = SGD(m.params(), lr=0.01)\n",
    "\n",
    "for epoch in range(100):\n",
    "    Y_hat: np.ndarray = m.forward(X)\n",
    "    loss: float = ef.forward(Y_hat, Y_gt)\n",
    "\n",
    "    opt.reset()\n",
    "    m.backward(X, ef.backward(Y_hat, Y_gt))\n",
    "    failed_grads, mask, norms = check_grads(X, Y_gt, m, ef)\n",
    "    if failed_grads:\n",
    "        print(\"ERROR: at least one parameter failed gradient checking!!!\")\n",
    "        print(failed_grads)\n",
    "        print(mask)\n",
    "        print(norms)\n",
    "    opt.step()\n",
    "print(\"done\")\n"
   ]
  }
 ],
 "metadata": {
  "celltoolbar": "Slideshow",
  "kernelspec": {
   "display_name": "Python 3",
   "language": "python",
   "name": "python3"
  },
  "language_info": {
   "codemirror_mode": {
    "name": "ipython",
    "version": 3
   },
   "file_extension": ".py",
   "mimetype": "text/x-python",
   "name": "python",
   "nbconvert_exporter": "python",
   "pygments_lexer": "ipython3",
   "version": "3.6.10"
  }
 },
 "nbformat": 4,
 "nbformat_minor": 1
}
