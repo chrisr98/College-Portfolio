{
 "cells": [
  {
   "cell_type": "markdown",
   "metadata": {
    "internals": {
     "slide_type": "subslide"
    },
    "slideshow": {
     "slide_type": "slide"
    }
   },
   "source": [
    "# Markov Chains Convergence"
   ]
  },
  {
   "cell_type": "code",
   "execution_count": 2,
   "metadata": {
    "internals": {},
    "slideshow": {
     "slide_type": "skip"
    }
   },
   "outputs": [
    {
     "name": "stdout",
     "output_type": "stream",
     "text": [
      "\n"
     ]
    }
   ],
   "source": [
    "%matplotlib inline\n",
    "%config InlineBackend.figure_format='retina'\n",
    "# import libraries\n",
    "import numpy as np\n",
    "import matplotlib as mp\n",
    "import pandas as pd\n",
    "import matplotlib.pyplot as plt\n",
    "import pandas as pd\n",
    "from importlib import reload\n",
    "from datetime import datetime\n",
    "import seaborn as sns\n",
    "from sklearn.preprocessing import MinMaxScaler\n",
    "import networkx as nx\n",
    "from IPython.display import Image\n",
    "from IPython.display import display_html\n",
    "from IPython.display import display\n",
    "from IPython.display import Math\n",
    "from IPython.display import Latex\n",
    "from IPython.display import HTML\n",
    "import slideUtilities as sl\n",
    "print('')"
   ]
  },
  {
   "cell_type": "code",
   "execution_count": 3,
   "metadata": {
    "internals": {},
    "slideshow": {
     "slide_type": "skip"
    }
   },
   "outputs": [
    {
     "data": {
      "text/html": [
       "<style>\n",
       " .container.slides .celltoolbar, .container.slides .hide-in-slideshow {\n",
       "    display: None ! important;\n",
       "}\n",
       "</style>"
      ],
      "text/plain": [
       "<IPython.core.display.HTML object>"
      ]
     },
     "metadata": {},
     "output_type": "display_data"
    }
   ],
   "source": [
    "%%html\n",
    "<style>\n",
    " .container.slides .celltoolbar, .container.slides .hide-in-slideshow {\n",
    "    display: None ! important;\n",
    "}\n",
    "</style>"
   ]
  },
  {
   "cell_type": "markdown",
   "metadata": {
    "internals": {},
    "slideshow": {
     "slide_type": "skip"
    }
   },
   "source": [
    "%Set up useful MathJax (Latex) macros.\n",
    "%See http://docs.mathjax.org/en/latest/tex.html#defining-tex-macros\n",
    "%These are for use in the slideshow\n",
    "$\\newcommand{\\mat}[1]{\\left[\\begin{array}#1\\end{array}\\right]}$\n",
    "$\\newcommand{\\vx}{{\\mathbf x}}$\n",
    "$\\newcommand{\\hx}{\\hat{\\mathbf x}}$\n",
    "$\\newcommand{\\vbt}{{\\mathbf\\beta}}$\n",
    "$\\newcommand{\\vy}{{\\mathbf y}}$\n",
    "$\\newcommand{\\vz}{{\\mathbf z}}$\n",
    "$\\newcommand{\\R}{{\\mathbb{R}}}$\n",
    "$\\newcommand{\\vu}{{\\mathbf u}}$\n",
    "$\\newcommand{\\vv}{{\\mathbf v}}$\n",
    "$\\newcommand{\\vw}{{\\mathbf w}}$\n",
    "$\\newcommand{\\col}{{\\operatorname{Col}}}$\n",
    "$\\newcommand{\\nul}{{\\operatorname{Nul}}}$\n",
    "$\\newcommand{\\vb}{{\\mathbf b}}$\n",
    "$\\newcommand{\\va}{{\\mathbf a}}$\n",
    "$\\newcommand{\\ve}{{\\mathbf e}}$\n",
    "$\\newcommand{\\setb}{{\\mathcal{B}}}$\n",
    "$\\newcommand{\\rank}{{\\operatorname{rank}}}$\n",
    "$\\newcommand{\\vp}{{\\mathbf p}}$"
   ]
  },
  {
   "cell_type": "raw",
   "metadata": {
    "internals": {
     "slide_helper": "subslide_end"
    },
    "slide_helper": "slide_end",
    "slideshow": {
     "slide_type": "skip"
    }
   },
   "source": [
    "\\newcommand{\\mat}[1]{\\left[\\begin{array}#1\\end{array}\\right]}\n",
    "\\newcommand{\\vx}{{\\mathbf x}}\n",
    "\\newcommand{\\hx}{\\hat{\\mathbf x}}\n",
    "\\newcommand{\\vbt}{{\\mathbf\\beta}}\n",
    "\\newcommand{\\vy}{{\\mathbf y}}\n",
    "\\newcommand{\\vz}{{\\mathbf z}}\n",
    "\\newcommand{\\vb}{{\\mathbf b}}\n",
    "\\newcommand{\\vu}{{\\mathbf u}}\n",
    "\\newcommand{\\vv}{{\\mathbf v}}\n",
    "\\newcommand{\\vw}{{\\mathbf w}}\n",
    "\\newcommand{\\va}{{\\mathbf a}}\n",
    "\\newcommand{\\ve}{{\\mathbf e}}\n",
    "\\newcommand{\\vp}{{\\mathbf p}}\n",
    "\\newcommand{\\R}{{\\mathbb{R}}}\n",
    "\\newcommand{\\col}{{\\operatorname{Col}}}\n",
    "\\newcommand{\\nul}{{\\operatorname{Nul}}}\n",
    "\\newcommand{\\rank}{{\\operatorname{rank}}}\n",
    "\\newcommand{\\setb}{{\\mathcal{B}}}"
   ]
  },
  {
   "cell_type": "markdown",
   "metadata": {
    "slideshow": {
     "slide_type": "slide"
    }
   },
   "source": [
    "How long does it take for a random work on a graph to converge?\n"
   ]
  },
  {
   "cell_type": "markdown",
   "metadata": {
    "slideshow": {
     "slide_type": "fragment"
    }
   },
   "source": [
    "We assume $G = (V, E)$ is an undirected, unweighted\n",
    "and connected graph. For simplicity, we also assume that $G$ is $d$-regular (all nodes have degree $d$). \n",
    "\n",
    "Recall that $M = D^{−1}A$\n",
    "is the normalized adjacency matrix which will be transition matrix of the random walk on $G$.\n",
    " Since $M$ is a symmetric matrix, $\\pi = (1/n,\\ldots, 1/n)$ is the stationary distribution.\n",
    " \n",
    " \n",
    " Can you parse tha paragraph above?"
   ]
  },
  {
   "cell_type": "markdown",
   "metadata": {
    "slideshow": {
     "slide_type": "slide"
    }
   },
   "source": [
    "**Lemma** Let $M$ be any symmetric transition matrix. Then for any probability vector $\\mathbf{x} and $\\pi = (1/n,\\ldots ,1/n)$ we have taht\n",
    "\n",
    "$$\n",
    "||\\mathbf{x}M^t-\\pi||_2\\leq\\lambda_\\max,\n",
    "$$\n",
    "where $\\lambda_\\max$ is the second largest eigenvalue of $M$ in absolute value.\n"
   ]
  },
  {
   "cell_type": "markdown",
   "metadata": {
    "slideshow": {
     "slide_type": "fragment"
    }
   },
   "source": [
    "**Proof**\n",
    "\n",
    "Note that if $\\mathbf{x}$ is a distribution vector it can be written as:\n",
    "\n",
    "\n",
    "$$\n",
    "\\mathbf{x} = \\sum_{i=1}^n\\alpha_i\\mathbf{e_i},\n",
    "$$\n",
    "\n",
    "where $\\mathbf{e_i}$ are the eigenvectors of $M$ and $\\alpha_i=\\frac{\\mathbf{x}\\mathbf{e_i}^T}{||\\mathbf{e_i}||_2^2}$.\n",
    "\n",
    "This translates to:\n",
    "$$\n",
    "\\mathbf{x} = \\frac{1}{n}\\vec{1}+\\sum_{i=2}^n\\alpha_i\\mathbf{e_i}.\n",
    "$$\n",
    "\n",
    "\n",
    "**Can you see why?**\n",
    "\n",
    "Then, we have:\n",
    "$\\mathbf{x}M^t = \\mathbf{x}MM^{t-1} = (\\frac{1}{n}\\vec{1}+\\sum_{i=2}^n\\alpha_i\\lambda_i\\mathbf{e_i})M^{t-1}M=\\ldots = (\\frac{1}{n}\\vec{1}+\\sum_{i=2}^n\\alpha_i\\lambda_i^t\\mathbf{e_i}).$\n",
    "\n",
    "\n",
    "Also,\n",
    "\n",
    "$$\n",
    "||\\sum_{\n",
    "i=2}^n\n",
    "\\alpha_i\\lambda_i^t\\mathbf{e_i}||_2\\leq\\lambda_\\max^t. \n",
    "$$\n",
    "\n",
    "Note that we are also using the fact that the total $\\ell_2$ norm of any distribution vector $\\mathbf{x}$ is:\n",
    "$\\sum_{x_i}^2\\leq \\sum_ix_i = 1$.\n",
    "\n",
    "Thus we have that:\n",
    "\n",
    "$$\n",
    "||\\mathbf{x}M - \\pi||_2\\leq\\lambda_\\max^t.\n",
    "$$\n"
   ]
  },
  {
   "cell_type": "markdown",
   "metadata": {
    "slideshow": {
     "slide_type": "slide"
    }
   },
   "source": [
    "### Mixing time\n",
    "\n",
    "**Definition:** The mixing time of an ergodic Markov chain with transiton matrix $M$ is $t$ if for every starting\n",
    "distribution $\\mathbf{x}$, the distribution $\\mathbf{x} M^t$ \n",
    "satisfies $\\|\\mathbf{x}M-\\pi\\|_1\\leq 1/4$.\n",
    "Where, $||_1$\n",
    "denotes the 1-norm and the constant “1/4” is arbitrary."
   ]
  },
  {
   "cell_type": "markdown",
   "metadata": {
    "slideshow": {
     "slide_type": "slide"
    }
   },
   "source": [
    "What does this mean for the proof we did mean for the mixing time?\n",
    "\n",
    "- First we remind ourselves that for any vector $\\mathbf{p}$, $|\\mathbf{p}|_1\\leq 1\\sqrt{n} |\\mathbf{p}|_2$.\n",
    "\n",
    "- Thus: $\\|\\mathbf{x}M-\\pi\\|_1\\leq 1\\sqrt{n} |\\mathbf{x}M-\\pi\\|_2\\leq \\sqrt{n}\\lambda_\\max^t$ \n",
    "\n",
    "- And $\\sqrt{n}\\lambda_\\max^t\\leq 1/4$ means that $t=O\\left(\\frac{\\log n}{\\lambda_\\max}\\right)$\n",
    "\n",
    "\n"
   ]
  }
 ],
 "metadata": {
  "anaconda-cloud": {},
  "celltoolbar": "Slideshow",
  "kernelspec": {
   "display_name": "Python 3",
   "language": "python",
   "name": "python3"
  },
  "language_info": {
   "codemirror_mode": {
    "name": "ipython",
    "version": 3
   },
   "file_extension": ".py",
   "mimetype": "text/x-python",
   "name": "python",
   "nbconvert_exporter": "python",
   "pygments_lexer": "ipython3",
   "version": "3.6.10"
  }
 },
 "nbformat": 4,
 "nbformat_minor": 1
}
